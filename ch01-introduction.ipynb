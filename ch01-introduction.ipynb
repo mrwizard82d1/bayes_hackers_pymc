{
 "cells": [
  {
   "cell_type": "markdown",
   "source": [
    "# Chapter 01 - Introduction"
   ],
   "metadata": {
    "collapsed": false,
    "pycharm": {
     "name": "#%% md\n"
    }
   }
  },
  {
   "cell_type": "code",
   "execution_count": null,
   "outputs": [],
   "source": [
    "# Typical imports\n",
    "import matplotlib\n",
    "import matplotlib.pyplot as plt\n",
    "import numpy as np\n",
    "import pandas as pd\n",
    "import scipy.stats as stats"
   ],
   "metadata": {
    "collapsed": false,
    "pycharm": {
     "name": "#%%\n"
    }
   }
  },
  {
   "cell_type": "code",
   "execution_count": null,
   "outputs": [],
   "source": [
    "# Incorporate the custom `matplotlib` styles\n",
    "import json\n",
    "from cycler import cycler\n",
    "s = json.load(open('./styles/bmh_matplotlibrc.json'))\n",
    "s['axes.prop_cycle'] = cycler('color', s['axes.prop_cycle']['color'])\n",
    "matplotlib.rcParams.update(s)"
   ],
   "metadata": {
    "collapsed": false,
    "pycharm": {
     "name": "#%%\n"
    }
   }
  },
  {
   "cell_type": "markdown",
   "source": [
    "Plot a sequence of posterior probabilities updated with increasing amounts of data (coin flips)"
   ],
   "metadata": {
    "collapsed": false,
    "pycharm": {
     "name": "#%% md\n"
    }
   }
  },
  {
   "cell_type": "code",
   "execution_count": null,
   "outputs": [],
   "source": [
    "# Set width and height of figure in inches\n",
    "plt.figure(figsize=(11, 9), dpi=300)"
   ],
   "metadata": {
    "collapsed": false,
    "pycharm": {
     "name": "#%%\n"
    }
   }
  },
  {
   "cell_type": "code",
   "execution_count": null,
   "outputs": [],
   "source": [
    "# The prior is drawn from a beta distribution\n",
    "# (the conjugate prior of the Bernoulli)\n",
    "dist = stats.beta\n",
    "# Sampled linearly 100 times\n",
    "x = np.linspace(0, 1, 100)\n",
    "\n",
    "# The data is drawn from a Bernoulli distribution\n",
    "n_trials = [0, 1, 2, 3, 4, 5, 8, 15, 50, 500]\n",
    "data = stats.bernoulli.rvs(0.5, size=n_trials[- 1])"
   ],
   "metadata": {
    "collapsed": false,
    "pycharm": {
     "name": "#%%\n"
    }
   }
  },
  {
   "cell_type": "code",
   "execution_count": null,
   "outputs": [],
   "source": [
    "for i, N in enumerate(n_trials):\n",
    "    # draw on `i`th axes of `len(n_trials) // 2` rows by 2 columns\n",
    "    ax = plt.subplot(len(n_trials) // 2, 2, i + 1)\n",
    "    plt.xlabel('$p$, probability of heads') if i in [0, len(n_trials) - 1] else None\n",
    "    plt.setp(ax.get_yticklabels(), visible=False)\n",
    "    heads = data[:N].sum()  # Calculate the number of successes (heads)\n",
    "    # Our initial prior is a uniform beta (a=1, b=1).\n",
    "    # Add `heads` to $\\alpha$; tails (`N - heads`) to $\\beta$\n",
    "    y = dist.pdf(x, 1 + heads, 1 + N - heads)\n",
    "    plt.plot(x, y, label=f'Observe {N} tosses,\\n {heads} heads')\n",
    "    plt.fill_between(x, 0, y, color='#348abd', alpha=0.4)\n",
    "    plt.vlines(0.5, 0, 4, color='k', linestyles='--', lw=1)\n",
    "\n",
    "    legend = plt.legend()\n",
    "    legend.get_frame().set_alpha(0.4)\n",
    "    plt.autoscale()\n",
    "\n",
    "# Title of all plots\n",
    "plt.suptitle('Bayesian updating of posterior probabilities', y=1.02, fontsize=14)\n",
    "plt.show()"
   ],
   "metadata": {
    "collapsed": false,
    "pycharm": {
     "name": "#%%\n"
    }
   }
  },
  {
   "cell_type": "code",
   "execution_count": null,
   "outputs": [],
   "source": [],
   "metadata": {
    "collapsed": false,
    "pycharm": {
     "name": "#%%\n"
    }
   }
  }
 ],
 "metadata": {
  "kernelspec": {
   "display_name": "Python 3",
   "language": "python",
   "name": "python3"
  },
  "language_info": {
   "codemirror_mode": {
    "name": "ipython",
    "version": 2
   },
   "file_extension": ".py",
   "mimetype": "text/x-python",
   "name": "python",
   "nbconvert_exporter": "python",
   "pygments_lexer": "ipython2",
   "version": "2.7.6"
  }
 },
 "nbformat": 4,
 "nbformat_minor": 0
}