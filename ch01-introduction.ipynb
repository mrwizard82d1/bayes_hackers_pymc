{
 "cells": [
  {
   "cell_type": "markdown",
   "metadata": {
    "pycharm": {
     "name": "#%% md\n"
    }
   },
   "source": [
    "# Chapter 01 - Introduction"
   ]
  },
  {
   "cell_type": "markdown",
   "metadata": {
    "pycharm": {
     "name": "#%% md\n"
    }
   },
   "source": [
    "## The Philosophy of Bayesian Inferance"
   ]
  },
  {
   "cell_type": "code",
   "execution_count": null,
   "metadata": {
    "collapsed": false,
    "jupyter": {
     "outputs_hidden": false
    },
    "pycharm": {
     "name": "#%%\n"
    }
   },
   "outputs": [],
   "source": [
    "# Typical imports\n",
    "import matplotlib\n",
    "import matplotlib.pyplot as plt\n",
    "import numpy as np\n",
    "# import pandas as pd\n",
    "import scipy.stats as stats"
   ]
  },
  {
   "cell_type": "code",
   "execution_count": null,
   "metadata": {
    "collapsed": false,
    "jupyter": {
     "outputs_hidden": false
    },
    "pycharm": {
     "name": "#%%\n"
    }
   },
   "outputs": [],
   "source": [
    "# I find toolz a very useful package\n",
    "import toolz.curried as toolz"
   ]
  },
  {
   "cell_type": "code",
   "execution_count": null,
   "metadata": {
    "collapsed": false,
    "jupyter": {
     "outputs_hidden": false
    },
    "pycharm": {
     "name": "#%%\n"
    }
   },
   "outputs": [],
   "source": [
    "# Incorporate the custom `matplotlib` styles\n",
    "import json\n",
    "from cycler import cycler\n",
    "\n",
    "# noinspection SpellCheckingInspection\n",
    "s = json.load(open('./styles/bmh_matplotlibrc.json'))\n",
    "s['axes.prop_cycle'] = cycler('color', s['axes.prop_cycle']['color'])\n",
    "matplotlib.rcParams.update(s)"
   ]
  },
  {
   "cell_type": "code",
   "execution_count": null,
   "metadata": {
    "collapsed": false,
    "jupyter": {
     "outputs_hidden": false
    },
    "pycharm": {
     "name": "#%%\n"
    }
   },
   "outputs": [],
   "source": [
    "# I don't quite understand why changing this setting increases the size of plots so much, but the settings above\n",
    "# seem to have no affect.\n",
    "plt.rcParams['figure.dpi'] = 300"
   ]
  },
  {
   "cell_type": "markdown",
   "metadata": {
    "pycharm": {
     "name": "#%% md\n"
    }
   },
   "source": [
    "### Our Bayesian Framework\n",
    "\n",
    "Bayesian inference has three general phases:\n",
    "\n",
    "- We have *prior* probabilities about our beliefs based on previous information. For example, our belief about the\n",
    "  presence of bugs in our code.\n",
    "- We observe evidence (data). Continuing our example, we observe that our code passes $X$ tests.\n",
    "- We update our prior beliefs using this evidence to determine the *posterior* probabilities about our beliefs.\n",
    "  Again, our observation of $X$ passing tests increases our belief that the code is bug free.\n",
    "\n",
    "Notice that our beliefs are not changed _per se_; however, our confidence in those beliefs has changed because we\n",
    "have observed additional evidence. Also notice that the observed evidence may increase or *decrease* the\n",
    "plausibility of those beliefs.\n",
    "\n",
    "Finally, take note that no amount of evidence can (rationally) produce absolute truth; evidence only increases /\n",
    "decreases the plausibility of our beliefs. Finally, no (finite) number of passing tests can result in a posterior\n",
    "probability of 1 (certitude), but increasing the number of (well-written) tests can get us, in theory, as close as\n",
    "one might like."
   ]
  },
  {
   "cell_type": "markdown",
   "metadata": {
    "pycharm": {
     "name": "#%% md\n"
    }
   },
   "source": [
    "We begin with a mandatory coin flipping example. Our prior belief is that we have no idea of the fairness of a coin.\n",
    "We represent this belief by a uniform distribution of probabilities from 0 to 1; that is, a $beta$ distribution\n",
    "with parameters $a = 1$ and $b = 1$.\n",
    "\n",
    "Our observations are a sequence of Bernoulli trials of an actual fair coin. (We *do not know* the coin is fair in\n",
    "\"real life.\"\n",
    "\n",
    "Mathematically, the $beta$ distribution and a sequence of Bernoulli trials are a _conjugate priors_. This term\n",
    "means that a $beta$ distribution updated by a sequence of Bernoulli trials produces another $beta$ distribution\n",
    "with different (updated) parameters $a$ and $b$.\n",
    "\n",
    "The code below performs these updates and plots the posteriors for an increasing number of trials (an increasing\n",
    "amount of evidence or data). Note that the updated distributions never produce a single, exact value for the\n",
    "probability of tossing heads. But, as the number of trials increases, the peak of the posterior probability\n",
    "distribution becomes narrower and narrower."
   ]
  },
  {
   "cell_type": "code",
   "execution_count": null,
   "metadata": {
    "collapsed": false,
    "jupyter": {
     "outputs_hidden": false
    },
    "pycharm": {
     "name": "#%%\n"
    }
   },
   "outputs": [],
   "source": [
    "# Use a beta distribution for the prior\n",
    "dist = stats.beta\n",
    "# Sampled 100 times between 0 and 1\n",
    "x = np.linspace(0, 1, 100)\n",
    "\n",
    "# And a Bernoulli likelihood with probability 0.5 and an increasing number of trials\n",
    "n_trials = [0, 1, 2, 3, 4, 5, 8, 15, 50, 500]\n",
    "data = stats.bernoulli.rvs(0.5, size=n_trials[-1])"
   ]
  },
  {
   "cell_type": "code",
   "execution_count": null,
   "metadata": {
    "collapsed": false,
    "jupyter": {
     "outputs_hidden": false
    },
    "pycharm": {
     "name": "#%%\n"
    }
   },
   "outputs": [],
   "source": [
    "row_count = len(n_trials) // 2\n",
    "col_count = 2\n",
    "fig, axes = plt.subplots(row_count, col_count, figsize=(11, 9))\n",
    "for i, N in enumerate(n_trials):\n",
    "    # A set of axes for each item in `n_trials` organized as `len(n_triels) // 2` rows by two columns\n",
    "    ax = axes[i // 2][i % 2]\n",
    "\n",
    "    # Label the x-axis\n",
    "    ax.set_xlabel('$p$, probability of heads')\n",
    "    # With ticks but no labels on the y-axis\n",
    "    ax.set_yticklabels([])\n",
    "\n",
    "    # The number of successes (coin flips of heads) in `N` tosses\n",
    "    heads = data[:N].sum()\n",
    "\n",
    "    # The posterior distribution given `heads` successes in `N` trials beginning from a uniform prior\n",
    "    y = dist.pdf(x, 1 + heads, 1 + N - heads)\n",
    "\n",
    "    # Plot the posterior\n",
    "    ax.plot(x, y, label=f'Observe {N} tosses,\\n {heads} heads')\n",
    "    ax.fill_between(x, 0, y, color='#348abd', alpha=0.4)\n",
    "    ax.vlines(0.5, 0, 4, color='k', linestyles='--', lw=1)\n",
    "\n",
    "    legend = ax.legend()\n",
    "    legend.get_frame().set_alpha(0.4)\n",
    "    ax.autoscale(tight=True)\n",
    "\n",
    "# Add an overall title to all the plots\n",
    "plt.suptitle('Bayesian updating of posterior probabilities', y=1.02, fontsize=14)\n",
    "plt.tight_layout()\n",
    "plt.show()"
   ]
  },
  {
   "cell_type": "markdown",
   "metadata": {
    "pycharm": {
     "name": "#%% md\n"
    }
   },
   "source": [
    "This plot communicates the key idea, additional data decreases the \"width\" of the posterior distribution;\n",
    "however, the maximum data of three of the plots are cut off. I tried changing `y_lim` however, this change\n",
    "had no effect with the other settings. :("
   ]
  },
  {
   "cell_type": "markdown",
   "metadata": {
    "pycharm": {
     "name": "#%% md\n"
    }
   },
   "source": [
    "#### Example: Bug, or just sweet, unintended feature\n",
    "\n",
    "Let's use Bayes' Theorem to determine if our code has any bugs.\n",
    "\n",
    "Let $A$ denote the \"event\" (or statement or premise) that *our code has no bugs*. Then $P(A)$ is our belief of\n",
    "this premise. We do not know this value; we designate it as the value $p$; that is, $P(A) = p$.\n",
    "\n",
    "We are interested in a different belief: $P(A \\mid X)$; that is, the probability that our code has no bugs\n",
    "given that our code passes a number of tests (the premise, $X$). Using Bayes' Theorem, we can write:\n",
    "\n",
    "$$\n",
    "P(A \\mid X) = \\frac{P(A) P(X \\mid A)}{P(X)}\n",
    "$$\n",
    "\n",
    "We know that $P(A) = p$ and $P(X \\mid A)$ is the probability that our tests pass given that our code has no bugs;\n",
    "by definition, $P(X \\mid A) \\equiv 1$.\n",
    "\n",
    "The value $P(X)$ is tricky; it is the probability that our tests pass whether our code has bugs or not. This\n",
    "quantity is sometimes called the _total probability_. We can calculate this probability as follows:\n",
    "\n",
    "$$\n",
    "P(X) = P(X \\mid A)P(A) + P(X \\mid \\sim A)P(\\sim A)\n",
    "$$\n",
    "\n",
    "Substituting our values into Bayes' Theorem, we have\n",
    "\n",
    "$$\n",
    "P(X \\mid A) = \\frac{p}{p + P(X \\mid \\sim A)(1 - p)\n",
    "$$\n",
    "\n",
    "The expression $P(X \\mid \\sim A)$ is the probability that our code passes all tests given that our code *has* bugs.\n",
    "We'll be conservative and assign this probability the value 0.5. We substitute and get:\n",
    "\n",
    "$$\n",
    "P(X \\mid A) = \\frac{p}{p + 0.5(1-p)}\n",
    "$$\n",
    "\n",
    "Eliminating the fraction in the denominator yields the expression\n",
    "\n",
    "$$\n",
    "P(X \\mid A) = \\frac{2p}{2p + (1 - p)} = \\frac{2p}{1 + p}\n",
    "$$\n",
    "\n",
    "This expression calculates our *posterior probability*; that is the probability that our code has no bugs given\n",
    "that it passes all our tests.\n",
    "\n",
    "Let's plot the posterior probability as a function of $p$."
   ]
  },
  {
   "cell_type": "code",
   "execution_count": null,
   "metadata": {
    "collapsed": false,
    "jupyter": {
     "outputs_hidden": false
    },
    "pycharm": {
     "name": "#%%\n"
    }
   },
   "outputs": [],
   "source": [
    "p = np.linspace(0, 1, 50)\n",
    "posterior =  (2 * p) / (1 + p)"
   ]
  },
  {
   "cell_type": "markdown",
   "metadata": {
    "pycharm": {
     "name": "#%% md\n"
    }
   },
   "source": [
    "Further, since I'm an experienced programmer, the likelihood that my code has no bugs is rather low; for example, 0.2."
   ]
  },
  {
   "cell_type": "code",
   "execution_count": null,
   "metadata": {
    "collapsed": false,
    "jupyter": {
     "outputs_hidden": false
    },
    "pycharm": {
     "name": "#%%\n"
    }
   },
   "outputs": [],
   "source": [
    "plt.figure(figsize=(12.5, 4))\n",
    "plt.plot(p, posterior, color='#348abd', lw=3)\n",
    "plt.scatter(0.2, (2 * 0.2) / (1 + 0.2), color='#348abd', s=140)\n",
    "plt.xlim(0, 1)\n",
    "plt.ylim(0, 1)\n",
    "plt.xlabel('Prior, $P(A) = p$')\n",
    "plt.ylabel('Posterior, $P(A \\mid X)$, with $P(A) = p$')\n",
    "plt.title('Are there any bugs in my code that passing my tests?')\n",
    "plt.show()"
   ]
  },
  {
   "cell_type": "markdown",
   "metadata": {
    "pycharm": {
     "name": "#%% md\n"
    }
   },
   "source": [
    "Looking at this curve, we see that the \"biggest bang for the buck\" occurs for low values of $p$; in other words,\n",
    "as we write better code, it becomes harder and harder to improve the code using tests."
   ]
  },
  {
   "cell_type": "markdown",
   "metadata": {
    "pycharm": {
     "name": "#%% md\n"
    }
   },
   "source": [
    "We assumed that the probability of our code passing all the tests given that it had bugs was 0.5; however, this is\n",
    "an assumption. Let's plot the posteriors for different values of this expression."
   ]
  },
  {
   "cell_type": "code",
   "execution_count": null,
   "metadata": {
    "collapsed": false,
    "jupyter": {
     "outputs_hidden": false
    },
    "pycharm": {
     "name": "#%%\n"
    }
   },
   "outputs": [],
   "source": [
    "@toolz.curry\n",
    "def calculate_posterior_by_prior_and_effectiveness(test_effectiveness, prior_probability):\n",
    "    return prior_probability / (prior_probability + test_effectiveness * (1 - prior_probability))"
   ]
  },
  {
   "cell_type": "code",
   "execution_count": null,
   "outputs": [],
   "source": [
    "p = np.linspace(0, 1, 50)\n",
    "fig, axes = plt.subplots(1, 1, sharex='all', figsize=(12.5, 4))\n",
    "color_cycle = plt.rcParams['axes.prop_cycle'].by_key()['color']\n",
    "for i, effectiveness in enumerate([0.1, 0.2, 0.3, 0.5, 0.8]):\n",
    "    calculate_posterior = calculate_posterior_by_prior_and_effectiveness(effectiveness)\n",
    "    posterior = calculate_posterior(p)\n",
    "    axes.plot(p, posterior, lw=3, color=color_cycle[i],\n",
    "              label=f'Probability with $P(X \\mid A) = {effectiveness}$')\n",
    "    axes.scatter(0.2, calculate_posterior(0.2), color=color_cycle[i], s=140)\n",
    "\n",
    "    axes.set_xlim(0, 1)\n",
    "    axes.set_ylim(0, 1)\n",
    "    axes.set_xlabel('Prior, $P(A) = p$')\n",
    "    axes.set_ylabel('Posterior, $P(A \\mid X)$, with $P(A) = p$')\n",
    "    axes.set_title('Are there any bugs in my code that passing my tests?')\n",
    "    plt.legend()\n",
    "plt.show()"
   ],
   "metadata": {
    "collapsed": false,
    "pycharm": {
     "name": "#%%\n"
    }
   }
  },
  {
   "cell_type": "markdown",
   "source": [
    "Returning to our first scenario with $(P(X \\mid A) = 0.2$, we can plot the change in the probabilities that bugs\n",
    "are present."
   ],
   "metadata": {
    "collapsed": false,
    "pycharm": {
     "name": "#%% md\n"
    }
   }
  },
  {
   "cell_type": "code",
   "execution_count": null,
   "outputs": [],
   "source": [
    "plt.figure(figsize=(12.5, 4))\n",
    "prior_color, posterior_color  = color_cycle[0], color_cycle[1]\n",
    "prior = 0.2, 0.8\n",
    "posterior = (calculate_posterior_by_prior_and_effectiveness(0.5, 0.2),\n",
    "             1 - calculate_posterior_by_prior_and_effectiveness(0.5, 0.2))\n",
    "\n",
    "plt.bar([0, 0.7], prior, alpha=0.70, width=0.25, color=color_cycle[0], label='prior distribution',\n",
    "        lw=3, edgecolor=color_cycle[0])\n",
    "plt.bar([0 + 0.25, 0.7 + 0.25], posterior, alpha=0.7, width=0.25, color=color_cycle[1],\n",
    "        label='posterior distribution', lw=3, edgecolor=color_cycle[1])\n",
    "\n",
    "plt.xticks([0.2, 0.95], ['Bugs Absent', 'Bugs Present'])\n",
    "plt.title('Prior and Posterior Probability of Bugs Present')\n",
    "plt.ylabel('Probability')\n",
    "plt.legend(loc='upper left')\n",
    "plt.show()"
   ],
   "metadata": {
    "collapsed": false,
    "pycharm": {
     "name": "#%%\n"
    }
   }
  },
  {
   "cell_type": "markdown",
   "source": [
    "Notice the changes in our beliefs based on evidence. Given that our code passes our tests, the probability that\n",
    "bugs are absent *increases* and the probability that bugs are present *decreases*."
   ],
   "metadata": {
    "collapsed": false,
    "pycharm": {
     "name": "#%% md\n"
    }
   }
  },
  {
   "cell_type": "markdown",
   "source": [
    "## Probability Distributions\n",
    "\n",
    "### Discrete random variable\n",
    "\n",
    "An example of a discrete random variable is a variable drawn from a **Poisson** distribution."
   ],
   "metadata": {
    "collapsed": false,
    "pycharm": {
     "name": "#%% md\n"
    }
   }
  },
  {
   "cell_type": "code",
   "execution_count": null,
   "outputs": [],
   "source": [
    "fix, ax = plt.subplots(figsize=(12.5, 4))\n",
    "k = np.arange(16)\n",
    "poisson  = stats.poisson\n",
    "lambda_ = [0.5, 1.5, 4.25]\n",
    "colors = color_cycle[:3]\n",
    "widths = [-0.25, 0.25, 0.25]\n",
    "aligns = ['edge', 'center', 'edge']\n",
    "for l, c, w, a in zip(lambda_, colors, widths, aligns):\n",
    "    ax.bar(k, poisson.pmf(k, l), width=w, align=a, color=c,\n",
    "           label=f'$\\lambda$ = {l}', alpha=0.8, edgecolor=c, lw=3)\n",
    "\n",
    "plt.ylabel('Probability of $k$')\n",
    "plt.xlabel('$k$')\n",
    "plt.legend()\n",
    "plt.title('Probability mass function of a Poisson random variable: differing $\\lambda$ values')\n",
    "plt.show()"
   ],
   "metadata": {
    "collapsed": false,
    "pycharm": {
     "name": "#%%\n"
    }
   }
  },
  {
   "cell_type": "markdown",
   "source": [
    "### Continuous Random Variable\n",
    "\n",
    "An example of a continuous random variable is a variable drawn from an **Exponential** distribution."
   ],
   "metadata": {
    "collapsed": false,
    "pycharm": {
     "name": "#%% md\n"
    }
   }
  },
  {
   "cell_type": "code",
   "execution_count": null,
   "outputs": [],
   "source": [
    "fix, ax = plt.subplots(figsize=(12.5, 4))\n",
    "x = np.linspace(0, 4, 100)\n",
    "exponential  = stats.expon\n",
    "lambda_ = [0.3, 0.5, 1.0, 2.0]\n",
    "colors = color_cycle[:4]\n",
    "for l, c in zip(lambda_, colors):\n",
    "    ax.plot(x, exponential.pdf(x, scale=1/l), color=c, label=f'$\\lambda$ = {l}', lw=3)\n",
    "    ax.fill_between(x, exponential.pdf(x, scale=1/l), color=c, alpha=0.25)\n",
    "\n",
    "plt.ylabel('PDF at $z$')\n",
    "plt.xlabel('$z$')\n",
    "plt.legend()\n",
    "plt.title('Probability density function of an Exponential random variable: differing $\\lambda$ values')\n",
    "plt.show()"
   ],
   "metadata": {
    "collapsed": false,
    "pycharm": {
     "name": "#%%\n"
    }
   }
  },
  {
   "cell_type": "markdown",
   "source": [
    "#### Example: Inferring behavior  from text-message data"
   ],
   "metadata": {
    "collapsed": false,
    "pycharm": {
     "name": "#%% md\n"
    }
   }
  },
  {
   "cell_type": "code",
   "execution_count": null,
   "outputs": [],
   "source": [
    "# Original count data\n",
    "fig, ax = plt.subplots(figsize=(12.5, 4))\n",
    "# noinspection SpellCheckingInspection\n",
    "count_data = np.loadtxt('data/txtdata.csv')\n",
    "n_count_data = len(count_data)\n",
    "plt.bar(np.arange(n_count_data), count_data, color=color_cycle[0])\n",
    "plt.xlabel('Time (days)')\n",
    "plt.ylabel('Count of text messages received')\n",
    "plt.title(\"Did the user's texting habits change over time?\")\n",
    "plt.xlim(0, n_count_data)"
   ],
   "metadata": {
    "collapsed": false,
    "pycharm": {
     "name": "#%%\n"
    }
   }
  },
  {
   "cell_type": "markdown",
   "source": [
    "To model the process generating this data, we model the text message counts as a random variable drawn from a\n",
    "Poisson distribution with an unknown $\\lambda$.\n",
    "\n",
    "Our hypothesis is that the text messaging behavior changes with time. We will model this hypothesis as a\n",
    "step function that changes at a time, $\\tau$. That is,\n",
    "\n",
    "$$\n",
    "\\tau = \\begin{cases}\n",
    "\\lambda_1, & t \\lt \\tau \\\\\n",
    "\\lambda_2, & t \\ge \\tau\n",
    "\\end{cases}\n",
    "$$\n",
    "\n",
    "However, we know neither $\\lambda_1$ nor $\\lambda_2$. Since $\\lambda_1$ and $\\lambda_2$ accept any non-negative\n",
    "real number, we hypothesize that each is random variable drawn from an Exponential distribution with the scale\n",
    "of $\\alpha$. That is,\n",
    "\n",
    "$$\n",
    "\\lambda_1 \\sim Exp(\\alpha) \\cr\n",
    "\\lambda_2 \\sim Exp(\\alpha)\n",
    "$$\n",
    "\n",
    "The random variable, $\\alpha$, is called a _hyperparameter_ or _parent variable_; that is, a parameter that\n",
    "affects other parameters. We have no strong opinions about its value. Since our initial value of $\\alpha$ does\n",
    "not affect the model too strongly, we have flexibility in our choice of its value. A good rule of thumb is to set\n",
    "the exponential parameter equal to the inverse of the average of the count data. The rationale for this choice is\n",
    "that the average count is approximately equal to the expectation of the Poisson distribution which equals the\n",
    "multiplicative inverse of the Exponential scale value. In symbols,\n",
    "\n",
    "$$\n",
    "\\frac{1}{N}\\sum\\limits_{i=0}^{N}C_i \\approx \\mathrm{E}[\\lambda \\mid \\alpha] = \\frac{1}{\\alpha}\n",
    "$$\n",
    "\n",
    "What about $\\tau$? Because of the noisiness of the data, it is difficult to have strong prior beliefs about its\n",
    "value. Consequently, we'll hypothesize that $\\tau$ is a random variable drawn from a discrete uniform distribution;\n",
    "that is,\n",
    "\n",
    "$$\n",
    "\\tau \\sim DiscreteUniform(1, 70)\n",
    "$$\n",
    "\n",
    "We now build this model in PyMC3."
   ],
   "metadata": {
    "collapsed": false,
    "pycharm": {
     "name": "#%% md\n"
    }
   }
  },
  {
   "cell_type": "code",
   "execution_count": null,
   "outputs": [],
   "source": [],
   "metadata": {
    "collapsed": false,
    "pycharm": {
     "name": "#%%\n"
    }
   }
  }
 ],
 "metadata": {
  "kernelspec": {
   "display_name": "Python 3 (ipykernel)",
   "language": "python",
   "name": "python3"
  },
  "language_info": {
   "codemirror_mode": {
    "name": "ipython",
    "version": 3
   },
   "file_extension": ".py",
   "mimetype": "text/x-python",
   "name": "python",
   "nbconvert_exporter": "python",
   "pygments_lexer": "ipython3",
   "version": "3.10.4"
  }
 },
 "nbformat": 4,
 "nbformat_minor": 4
}