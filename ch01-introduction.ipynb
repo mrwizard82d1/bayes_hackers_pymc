{
 "cells": [
  {
   "cell_type": "markdown",
   "source": [
    "# Chapter 01 - Introduction"
   ],
   "metadata": {
    "collapsed": false,
    "pycharm": {
     "name": "#%% md\n"
    }
   }
  },
  {
   "cell_type": "markdown",
   "source": [
    "## The Philosophy of Bayesian Inferance"
   ],
   "metadata": {
    "collapsed": false,
    "pycharm": {
     "name": "#%% md\n"
    }
   }
  },
  {
   "cell_type": "code",
   "execution_count": null,
   "outputs": [],
   "source": [
    "# Typical imports\n",
    "import matplotlib\n",
    "import matplotlib.pyplot as plt\n",
    "import numpy as np\n",
    "import pandas as pd\n",
    "import scipy.stats as stats"
   ],
   "metadata": {
    "collapsed": false,
    "pycharm": {
     "name": "#%%\n"
    }
   }
  },
  {
   "cell_type": "code",
   "execution_count": null,
   "outputs": [],
   "source": [
    "# Incorporate the custom `matplotlib` styles\n",
    "import json\n",
    "from cycler import cycler\n",
    "\n",
    "# noinspection SpellCheckingInspection\n",
    "s = json.load(open('./styles/bmh_matplotlibrc.json'))\n",
    "s['axes.prop_cycle'] = cycler('color', s['axes.prop_cycle']['color'])\n",
    "matplotlib.rcParams.update(s)"
   ],
   "metadata": {
    "collapsed": false,
    "pycharm": {
     "name": "#%%\n"
    }
   }
  },
  {
   "cell_type": "code",
   "execution_count": null,
   "outputs": [],
   "source": [
    "# I don't quite understand why changing this setting increases the size of plots so much, but the settings above\n",
    "# seem to have no affect.\n",
    "plt.rcParams['figure.dpi'] = 300"
   ],
   "metadata": {
    "collapsed": false,
    "pycharm": {
     "name": "#%%\n"
    }
   }
  },
  {
   "cell_type": "markdown",
   "source": [
    "### Our Bayesian Framework\n",
    "\n",
    "Bayesian inference has three general phases:\n",
    "\n",
    "- We have *prior* probabilities about our beliefs based on previous information. For example, our belief about the\n",
    "  presence of bugs in our code.\n",
    "- We observe evidence (data). Continuing our example, we observe that our code passes $X$ tests.\n",
    "- We update our prior beliefs using this evidence to determine the *posterior* probabilities about our beliefs.\n",
    "  Again, our observation of $X$ passing tests increases our belief that the code is bug free.\n",
    "\n",
    "Notice that our beliefs are not changed _per se_; however, our confidence in those beliefs has changed because we\n",
    "have observed additional evidence. Also notice that the observed evidence may increase or *decrease* the\n",
    "plausibility of those beliefs.\n",
    "\n",
    "Finally, take note that no amount of evidence can (rationally) produce absolute truth; evidence only increases /\n",
    "decreases the plausibility of our beliefs. Finally, no (finite) number of passing tests can result in a posterior\n",
    "probability of 1 (certitude), but increasing the number of (well-written) tests can get us, in theory, as close as\n",
    "one might like."
   ],
   "metadata": {
    "collapsed": false,
    "pycharm": {
     "name": "#%% md\n"
    }
   }
  },
  {
   "cell_type": "markdown",
   "source": [
    "We begin with a mandatory coin flipping example. Our prior belief is that we have no idea of the fairness of a coin.\n",
    "We represent this belief by a uniform distribution of probabilities from 0 to 1; that is, a $beta$ distribution\n",
    "with parameters $a = 1$ and $b = 1$.\n",
    "\n",
    "Our observations are a sequence of Bernoulli trials of an actual fair coin. (We *do not know* the coin is fair in\n",
    "\"real life.\"\n",
    "\n",
    "Mathematically, the $beta$ distribution and a sequence of Bernoulli trials are a _conjugate priors_. This term\n",
    "means that a $beta$ distribution updated by a sequence of Bernoulli trials produces another $beta$ distribution\n",
    "with different (updated) parameters $a$ and $b$.\n",
    "\n",
    "The code below performs these updates and plots the posteriors for an increasing number of trials (an increasing\n",
    "amount of evidence or data). Note that the updated distributions never produce a single, exact value for the\n",
    "probability of tossing heads. But, as the number of trials increases, the peak of the posterior probability\n",
    "distribution becomes narrower and narrower."
   ],
   "metadata": {
    "collapsed": false,
    "pycharm": {
     "name": "#%% md\n"
    }
   }
  },
  {
   "cell_type": "code",
   "execution_count": null,
   "outputs": [],
   "source": [
    "# Use a beta distribution for the prior\n",
    "dist = stats.beta\n",
    "# Sampled 100 times between 0 and 1\n",
    "x = np.linspace(0, 1, 100)\n",
    "\n",
    "# And a Bernoulli likelihood with probability 0.5 and an increasing number of trials\n",
    "n_trials = [0, 1, 2, 3, 4, 5, 8, 15, 50, 500]\n",
    "data = stats.bernoulli.rvs(0.5, size=n_trials[-1])"
   ],
   "metadata": {
    "collapsed": false,
    "pycharm": {
     "name": "#%%\n"
    }
   }
  },
  {
   "cell_type": "code",
   "execution_count": null,
   "outputs": [],
   "source": [
    "row_count = len(n_trials) // 2\n",
    "col_count = 2\n",
    "fig, axes = plt.subplots(row_count, col_count, figsize=(11, 9))\n",
    "for i, N in enumerate(n_trials):\n",
    "    # A set of axes for each item in `n_trials` organized as `len(n_triels) // 2` rows by two columns\n",
    "    ax = axes[i % (len(n_trials) // 2)][i % 2]\n",
    "\n",
    "    # Label the x-axis\n",
    "    ax.set_xlabel('$p$, probability of heads')\n",
    "    # With ticks but no labels on the y-axis\n",
    "    ax.set_yticklabels([])\n",
    "\n",
    "    # The number of successes (coin flips of heads) in `N` tosses\n",
    "    heads = data[:N].sum()\n",
    "\n",
    "    # The posterior distribution given `heads` successes in `N` trials beginning from a uniform prior\n",
    "    y = dist.pdf(x, 1 + heads, 1 + N - heads)\n",
    "\n",
    "    # Plot the posterior\n",
    "    ax.plot(x, y, label=f'Observe {N} tosses,\\n {heads} heads')\n",
    "    ax.fill_between(x, 0, y, color='#348abd', alpha=0.4)\n",
    "    ax.vlines(0.5, 0, 4, color='k', linestyles='--', lw=1)\n",
    "\n",
    "    legend = ax.legend()\n",
    "    legend.get_frame().set_alpha(0.4)\n",
    "    ax.autoscale(tight=True)\n",
    "\n",
    "# Add an overall title to all the plots\n",
    "plt.suptitle('Bayesian updating of posterior probabilities', y=1.02, fontsize=14)\n",
    "plt.tight_layout()\n",
    "plt.show()"
   ],
   "metadata": {
    "collapsed": false,
    "pycharm": {
     "name": "#%%\n"
    }
   }
  },
  {
   "cell_type": "markdown",
   "source": [
    "This plot communicates the key idea, additional data decreases the \"width\" of the posterior distribution;\n",
    "however, the maximum data of three of the plots are cut off. I tried changing `y_lim` however, this change\n",
    "had no effect with the other settings. :("
   ],
   "metadata": {
    "collapsed": false,
    "pycharm": {
     "name": "#%% md\n"
    }
   }
  },
  {
   "cell_type": "code",
   "execution_count": null,
   "outputs": [],
   "source": [],
   "metadata": {
    "collapsed": false,
    "pycharm": {
     "name": "#%%\n"
    }
   }
  }
 ],
 "metadata": {
  "kernelspec": {
   "display_name": "Python 3",
   "language": "python",
   "name": "python3"
  },
  "language_info": {
   "codemirror_mode": {
    "name": "ipython",
    "version": 2
   },
   "file_extension": ".py",
   "mimetype": "text/x-python",
   "name": "python",
   "nbconvert_exporter": "python",
   "pygments_lexer": "ipython2",
   "version": "2.7.6"
  }
 },
 "nbformat": 4,
 "nbformat_minor": 0
}