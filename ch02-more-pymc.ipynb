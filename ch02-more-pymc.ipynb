{
 "cells": [
  {
   "cell_type": "code",
   "execution_count": null,
   "outputs": [],
   "source": [
    "# Chapter 02 - More PyMC"
   ],
   "metadata": {
    "collapsed": false,
    "pycharm": {
     "name": "#%%\n"
    }
   }
  },
  {
   "cell_type": "code",
   "execution_count": null,
   "outputs": [],
   "source": [
    "# Typical imports\n",
    "import arviz as az\n",
    "import matplotlib\n",
    "import matplotlib.pyplot as plt\n",
    "import numpy as np\n",
    "# import pandas as pd\n",
    "import pymc3 as pm\n",
    "import scipy.stats as stats\n",
    "import theano.tensor as tt"
   ],
   "metadata": {
    "collapsed": false,
    "pycharm": {
     "name": "#%%\n"
    }
   }
  },
  {
   "cell_type": "code",
   "execution_count": null,
   "outputs": [],
   "source": [
    "# Incorporate the custom `matplotlib` styles\n",
    "import json\n",
    "from cycler import cycler\n",
    "\n",
    "# noinspection SpellCheckingInspection\n",
    "s = json.load(open('./styles/bmh_matplotlibrc.json'))\n",
    "s['axes.prop_cycle'] = cycler('color', s['axes.prop_cycle']['color'])\n",
    "matplotlib.rcParams.update(s)"
   ],
   "metadata": {
    "collapsed": false,
    "pycharm": {
     "name": "#%%\n"
    }
   }
  },
  {
   "cell_type": "code",
   "execution_count": null,
   "outputs": [],
   "source": [
    "# Create a color cycle\n",
    "color_cycle = plt.rcParams['axes.prop_cycle'].by_key()['color']"
   ],
   "metadata": {
    "collapsed": false,
    "pycharm": {
     "name": "#%%\n"
    }
   }
  },
  {
   "cell_type": "markdown",
   "source": [
    "## A little more PyMC3"
   ],
   "metadata": {
    "collapsed": false,
    "pycharm": {
     "name": "#%% md\n"
    }
   }
  },
  {
   "cell_type": "markdown",
   "source": [
    "### Model context\n",
    "\n",
    "In PyMC3, we put all variables of interest in the context of a `Model`."
   ],
   "metadata": {
    "collapsed": false,
    "pycharm": {
     "name": "#%% md\n"
    }
   }
  },
  {
   "cell_type": "code",
   "execution_count": null,
   "outputs": [],
   "source": [
    "with pm.Model() as model:\n",
    "    parameter = pm.Exponential('poisson_param', lam=1.0)\n",
    "    data_generator = pm.Poisson('data_generator', parameter)"
   ],
   "metadata": {
    "collapsed": false,
    "pycharm": {
     "name": "#%%\n"
    }
   }
  },
  {
   "cell_type": "markdown",
   "source": [
    "We can continue to work within the context of a previously defined `Model` instance by using `with` and the name\n",
    "of the previously defined variable referring to the `Model` instance."
   ],
   "metadata": {
    "collapsed": false,
    "pycharm": {
     "name": "#%% md\n"
    }
   }
  },
  {
   "cell_type": "code",
   "execution_count": null,
   "outputs": [],
   "source": [
    "with model:\n",
    "    data_plus_one = data_generator + 1"
   ],
   "metadata": {
    "collapsed": false,
    "pycharm": {
     "name": "#%%\n"
    }
   }
  },
  {
   "cell_type": "markdown",
   "source": [
    "Even though we have defined variables in the context of a model, we can access these variables **outside** the\n",
    "model context."
   ],
   "metadata": {
    "collapsed": false,
    "pycharm": {
     "name": "#%% md\n"
    }
   }
  },
  {
   "cell_type": "code",
   "execution_count": null,
   "outputs": [],
   "source": [
    "parameter.tag.test_value"
   ],
   "metadata": {
    "collapsed": false,
    "pycharm": {
     "name": "#%%\n"
    }
   }
  },
  {
   "cell_type": "markdown",
   "source": [
    "The first parameter to all model variables is its name. This name allows PyMC3 to access the variable name later."
   ],
   "metadata": {
    "collapsed": false,
    "pycharm": {
     "name": "#%% md\n"
    }
   },
   "outputs": []
  },
  {
   "cell_type": "markdown",
   "source": [
    "Additionally, one can define a new variable with a previously used name in a different model."
   ],
   "metadata": {
    "collapsed": false,
    "pycharm": {
     "name": "#%% md\n"
    }
   }
  },
  {
   "cell_type": "code",
   "execution_count": null,
   "outputs": [],
   "source": [
    "with pm.Model() as model:\n",
    "    theta = pm.Exponential('theta', 2.0)\n",
    "    data_generator = pm.Poisson('data_generator', theta)"
   ],
   "metadata": {
    "collapsed": false,
    "pycharm": {
     "name": "#%%\n"
    }
   }
  },
  {
   "cell_type": "markdown",
   "source": [
    "We are free to name our model variables whatever we wish. Remember, reusing a model variable name results in\n",
    "overwriting the previous model."
   ],
   "metadata": {
    "collapsed": false,
    "pycharm": {
     "name": "#%% md\n"
    }
   }
  },
  {
   "cell_type": "code",
   "execution_count": null,
   "outputs": [],
   "source": [
    "with pm.Model() as ab_testing:\n",
    "    p_A = pm.Uniform('P(A)', 0, 1)\n",
    "    p_B = pm.Uniform('P(B)', 0, 1)"
   ],
   "metadata": {
    "collapsed": false,
    "pycharm": {
     "name": "#%%\n"
    }
   }
  },
  {
   "cell_type": "markdown",
   "source": [
    "### PyMC3 Variables"
   ],
   "metadata": {
    "collapsed": false,
    "pycharm": {
     "name": "#%% md\n"
    }
   }
  },
  {
   "cell_type": "markdown",
   "source": [
    "All PyMC3 variables have an initial value (that is, a test value). Examining the variables previously defined:"
   ],
   "metadata": {
    "collapsed": false,
    "pycharm": {
     "name": "#%% md\n"
    }
   }
  },
  {
   "cell_type": "code",
   "execution_count": null,
   "outputs": [],
   "source": [
    "print(f'{parameter.tag.test_value=}')\n",
    "print(f'{data_generator.tag.test_value=}')\n",
    "print(f'{data_plus_one.tag.test_value=}')"
   ],
   "metadata": {
    "collapsed": false,
    "pycharm": {
     "name": "#%%\n"
    }
   }
  },
  {
   "cell_type": "markdown",
   "source": [
    "The `test_value` is used only for the model to provide a starting point for sampling if no other starting point\n",
    "is specified.\n",
    "\n",
    "It will **not** change as a result of sampling; however, the initial state can be changed by specifying a value\n",
    "for the `testval` parameter when creating the variable.\n",
    "\n",
    "Specifying `testval` can be helpful if you are using a more unstable prior that may require a better starting\n",
    "point for sampling."
   ],
   "metadata": {
    "collapsed": false,
    "pycharm": {
     "name": "#%% md\n"
    }
   }
  },
  {
   "cell_type": "code",
   "execution_count": null,
   "outputs": [],
   "source": [
    "with pm.Model() as model:\n",
    "    parameter = pm.Exponential('poisson_param', 1.0, testval=0.5)"
   ],
   "metadata": {
    "collapsed": false,
    "pycharm": {
     "name": "#%%\n"
    }
   }
  },
  {
   "cell_type": "code",
   "execution_count": null,
   "outputs": [],
   "source": [
    "parameter.tag.test_value"
   ],
   "metadata": {
    "collapsed": false,
    "pycharm": {
     "name": "#%%\n"
    }
   }
  },
  {
   "cell_type": "code",
   "execution_count": null,
   "outputs": [],
   "source": [
    "with pm.Model() as variable_model:\n",
    "    # Stochastic variables have a name and other parameters specific to the distribution.\n",
    "    # It is best to ues a description value for `name` since this value will be used to retrieve the\n",
    "    # posterior distribution for subsequent analysis.\n",
    "    some_variable = pm.DiscreteUniform('discrete_uniform_variable', 0, 4)\n",
    "\n",
    "    # One can use the `shape` argument to model a multivariate (independent) stochastic variable.\n",
    "\n",
    "    # Additionally, one can use the `shape` argument to handle the \"annoying\" case in which you wish\n",
    "    # to model a sequence of values drawn from a single distribution that only differ by \"index.\"\n",
    "    # For example, instead of\n",
    "    # beta_1 = pm.Uniform('beta_1', 0, 1)\n",
    "    # beta_2 = pm.Uniform('beta_2', 0, 1)\n",
    "    # ...\n",
    "    #\n",
    "    # One can wrap them in a single variable:\n",
    "    N = 7\n",
    "    betas = pm.Uniform('betas', 0, 1, shape=N)\n",
    "\n",
    "    # The other category are deterministic variables. We can create a deterministic variable using the\n",
    "    # `Deterministic` constructor.\n",
    "    def some_function_of_other_variables(some_variable, betas):\n",
    "        return some_variable + betas.mean()\n",
    "    #\n",
    "    # deterministic_variable = pm.Deterministic('deterministic variable', some_function_of_other_variables)\n",
    "    # Note that the previous, commented out code generates an `AttributeError` about a `copy` attribute.\n",
    "    # Based on other issues, I believe that the latest versions of PyMC3 no longer support `Deterministic`\n",
    "    # as we used it above."
   ],
   "metadata": {
    "collapsed": false,
    "pycharm": {
     "name": "#%%\n"
    }
   }
  },
  {
   "cell_type": "code",
   "execution_count": null,
   "outputs": [],
   "source": [
    "# Using the `Deterministic` constructor is the most obvious way to create a deterministic variable; however,\n",
    "# elementary operations like addition and exponentiation implicitly create deterministic variables.\n",
    "# For example:\n",
    "with pm.Model() as model:\n",
    "    lambda_1 = pm.Exponential('lambda_1', 1.0)\n",
    "    lambda_2 = pm.Exponential('lambda_2', 1.0)\n",
    "    tau = pm.DiscreteUniform('tau', lower=0, upper=10)\n",
    "\n",
    "new_deterministic_variable = lambda_1 + lambda_2\n",
    "\n",
    "# Remember, to use a deterministic variable in a model, one must use the `Deterministic` constructor."
   ],
   "metadata": {
    "collapsed": false,
    "pycharm": {
     "name": "#%%\n"
    }
   }
  },
  {
   "cell_type": "code",
   "execution_count": null,
   "outputs": [],
   "source": [
    "# We can define a deterministic variable inside a model context:\n",
    "n_data_points = 5  # We had 70 data points in chapter 01.\n",
    "idx = np.arange(n_data_points)\n",
    "with model:\n",
    "    lambda_ = pm.math.switch(tau >= idx, lambda_1, lambda_2)"
   ],
   "metadata": {
    "collapsed": false,
    "pycharm": {
     "name": "#%%\n"
    }
   }
  },
  {
   "cell_type": "markdown",
   "source": [
    "### Theano"
   ],
   "metadata": {
    "collapsed": false,
    "pycharm": {
     "name": "#%% md\n"
    }
   }
  },
  {
   "cell_type": "markdown",
   "source": [],
   "metadata": {
    "collapsed": false,
    "pycharm": {
     "name": "#%% md\n"
    }
   }
  },
  {
   "cell_type": "code",
   "execution_count": null,
   "outputs": [],
   "source": [
    "with pm.Model() as theano_test:\n",
    "    p1 = pm.Uniform('p', 0, 1)\n",
    "    p2 = 1 - p1\n",
    "    p = tt.stack([p1, p2])\n",
    "\n",
    "    assignment = pm.Categorical('assignment', p)"
   ],
   "metadata": {
    "collapsed": false,
    "pycharm": {
     "name": "#%%\n"
    }
   }
  },
  {
   "cell_type": "markdown",
   "source": [
    "### Including observations in the model"
   ],
   "metadata": {
    "collapsed": false,
    "pycharm": {
     "name": "#%% md\n"
    }
   }
  },
  {
   "cell_type": "code",
   "execution_count": null,
   "outputs": [],
   "source": [
    "plt.figure(figsize=(12.5, 4))\n",
    "\n",
    "samples = lambda_1.random(size=20000)\n",
    "plt.hist(samples, bins=70, density=True, histtype='stepfilled')\n",
    "plt.title('Prior distribution for $\\lambda_1$')\n",
    "plt.xlim(0, 8)\n",
    "\n",
    "plt.show()"
   ],
   "metadata": {
    "collapsed": false,
    "pycharm": {
     "name": "#%%\n"
    }
   }
  },
  {
   "cell_type": "code",
   "execution_count": null,
   "outputs": [],
   "source": [
    "data = np.array([10, 5])\n",
    "with model:\n",
    "    fixed_variable = pm.Poisson('fxd', 1, observed=data)\n",
    "print(f'{fixed_variable.tag.test_value}')"
   ],
   "metadata": {
    "collapsed": false,
    "pycharm": {
     "name": "#%%\n"
    }
   }
  },
  {
   "cell_type": "code",
   "execution_count": null,
   "outputs": [],
   "source": [
    "# Were using fake data here\n",
    "data = np.array([10, 25, 15, 20, 35])\n",
    "with model:\n",
    "    obs = pm.Poisson('obs', lambda_, observed=data)\n",
    "print(f'{obs.tag.test_value}')"
   ],
   "metadata": {
    "collapsed": false,
    "pycharm": {
     "name": "#%%\n"
    }
   }
  },
  {
   "cell_type": "markdown",
   "source": [
    "## Modeling Approaches\n",
    "\n",
    "A good approach to Bayesian modeling is to think about _how your data might have been generated_.\n",
    "\n",
    "From the text message count in the last chapter:\n",
    "\n",
    "1. Began: \"What is the best way to describe the count data?\" Our answer: our data was sampled from a\n",
    "   Poisson distribution.\n",
    "2. But a Poisson distribution is characterized by a parameter, $\\lambda$.\n",
    "3. Do we know $\\lambda$? No. In fact, we think our process may have **two** $\\lambda$ values: one for earlier\n",
    "   behavior and one for later behavior. However, we do not know when the switch occurs, but let's posit that\n",
    "   that switch occurs at time $\\tau$.\n",
    "4. What is a good distribution for the two $\\lambda$s? Since $\\lambda$ can take on any non-negative real number,\n",
    "   we want a distribution whose support is the non-negative real numbers. An exponential distribution is a\n",
    "   distribution with such support. But an exponential distribution takes its own parameter, $\\alpha$.\n",
    "5. What do we know about $\\alpha$. Not very much. We might estimate that each $\\lambda$ is between 10 and 30,\n",
    "   but we are not very confident. Rather than choose a distribution for $\\alpha$, we wil simply estimate\n",
    "   a value. But what value, we want to neither be too low nor too high, so we choose $\\alpha$ equal to the\n",
    "   inverse of mean of the counts per day.\n",
    "6. We have no expert opinion on $\\tau$ so we choose to simple from a discrete uniform distribution."
   ],
   "metadata": {
    "collapsed": false,
    "pycharm": {
     "name": "#%% md\n"
    }
   }
  },
  {
   "cell_type": "markdown",
   "source": [
    "### Same story; different endings\n",
    "\n",
    "As advantage of identifying a generative model is that we can run the process \"backwards\"; that is, we can\n",
    "sample values from our generative distribution(s). Eventually, having sampled parameters from all our processes,\n",
    "we can actually simulate the observed data to ensure that the simulated observed data has similar characteristics\n",
    "to the actual observed data."
   ],
   "metadata": {
    "collapsed": false,
    "pycharm": {
     "name": "#%% md\n"
    }
   }
  },
  {
   "cell_type": "code",
   "execution_count": null,
   "outputs": [],
   "source": [
    "# Since `tau` is a leaf of our variable tree, begin by sampling `tau`.\n",
    "tau = np.random.randint(0, 80)\n",
    "# tau = stats.randint(0, 80)  # an alternative\n",
    "print(f'{tau=}')"
   ],
   "metadata": {
    "collapsed": false,
    "pycharm": {
     "name": "#%%\n"
    }
   }
  },
  {
   "cell_type": "code",
   "execution_count": null,
   "outputs": [],
   "source": [
    "# We next draw `lambda_1` and `lambda_2` from an exponential distribution.\n",
    "alpha = 1. / 20.\n",
    "lambda_1, lambda_2 = np.random.exponential(scale=(1 / alpha), size=2)\n",
    "# lambda_1 = stats.expon(alpha=alpha)  # an alternative\n",
    "# lambda_2 = stats.expon(alpha=alpha)\n",
    "print(f'{lambda_1=}, {lambda_2=}')"
   ],
   "metadata": {
    "collapsed": false,
    "pycharm": {
     "name": "#%%\n"
    }
   }
  },
  {
   "cell_type": "code",
   "execution_count": null,
   "outputs": [],
   "source": [
    "# Finally, we generate the count data from a Poisson distribution\n",
    "simulated = np.r_[stats.poisson.rvs(lambda_1, size=tau), stats.poisson.rvs(lambda_2, size=80 - tau)]"
   ],
   "metadata": {
    "collapsed": false,
    "pycharm": {
     "name": "#%%\n"
    }
   }
  },
  {
   "cell_type": "code",
   "execution_count": null,
   "outputs": [],
   "source": [
    "# Finally, plot the generated (simulated) data\n",
    "fig, ax = plt.subplots(figsize=(11, 8))\n",
    "ax.bar(np.arange(80), simulated, color=color_cycle[0])\n",
    "ax.bar(tau - 1, simulated[tau - 1], color=color_cycle[1], label='User behavior changed')\n",
    "\n",
    "plt.xlim(0, 80)\n",
    "plt.xlabel('Time (days)')\n",
    "plt.ylabel('Daily text messages count')\n",
    "plt.legend()\n",
    "plt.title('Simulated text message counts')\n",
    "plt.show()"
   ],
   "metadata": {
    "collapsed": false,
    "pycharm": {
     "name": "#%%\n"
    }
   }
  },
  {
   "cell_type": "markdown",
   "source": [
    "Note that this data does not look identical (or even close) to our observed count data. However, it does have\n",
    "similar characteristics:\n",
    "\n",
    "- Two different regimes\n",
    "- Separated at $\\tau$\n",
    "\n",
    "(The writer also discovered that **some** simulations may generate a count of zero (0) on day $\\tau$.)"
   ],
   "metadata": {
    "collapsed": false,
    "pycharm": {
     "name": "#%% md\n"
    }
   }
  },
  {
   "cell_type": "code",
   "execution_count": null,
   "outputs": [],
   "source": [
    "# We simulate a few more data sets below\n",
    "def plot_simulated_sms_dataset(ax, color):\n",
    "    tau = stats.randint.rvs(0, 80)\n",
    "    alpha = 1. / 20.\n",
    "    lambda_1, lambda_2 = stats.expon.rvs(scale=(1. / alpha), size=2)\n",
    "    simulated = np.r_[stats.poisson.rvs(mu=lambda_1, size=tau), stats.poisson.rvs(mu=lambda_2, size=(80 - tau))]\n",
    "    ax.bar(np.arange(80), simulated, color=color)\n",
    "    ax.bar(tau - 1, simulated[tau - 1], color='y', label='User behavior changed')"
   ],
   "metadata": {
    "collapsed": false,
    "pycharm": {
     "name": "#%%\n"
    }
   }
  },
  {
   "cell_type": "code",
   "execution_count": null,
   "outputs": [],
   "source": [
    "_, axes = plt.subplots(4, 1, figsize=(12.5, 8))\n",
    "for i in range(4):\n",
    "    ax = axes[i]\n",
    "    plot_simulated_sms_dataset(ax, color_cycle[i])\n",
    "    ax.legend()\n",
    "plt.suptitle('More examples of simulated datasets')\n",
    "plt.tight_layout()"
   ],
   "metadata": {
    "collapsed": false,
    "pycharm": {
     "name": "#%%\n"
    }
   }
  },
  {
   "cell_type": "markdown",
   "source": [
    "Later, we will see how to use simulations to make predictions and test the appropriateness of our models."
   ],
   "metadata": {
    "collapsed": false,
    "pycharm": {
     "name": "#%% md\n"
    }
   }
  },
  {
   "cell_type": "code",
   "execution_count": null,
   "outputs": [],
   "source": [],
   "metadata": {
    "collapsed": false,
    "pycharm": {
     "name": "#%%\n"
    }
   }
  }
 ],
 "metadata": {
  "kernelspec": {
   "display_name": "Python 3",
   "language": "python",
   "name": "python3"
  },
  "language_info": {
   "codemirror_mode": {
    "name": "ipython",
    "version": 2
   },
   "file_extension": ".py",
   "mimetype": "text/x-python",
   "name": "python",
   "nbconvert_exporter": "python",
   "pygments_lexer": "ipython2",
   "version": "2.7.6"
  }
 },
 "nbformat": 4,
 "nbformat_minor": 0
}