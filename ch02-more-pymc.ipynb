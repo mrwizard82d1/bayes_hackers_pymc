{
 "cells": [
  {
   "cell_type": "code",
   "execution_count": 1,
   "outputs": [],
   "source": [
    "# Chapter 02 - More PyMC"
   ],
   "metadata": {
    "collapsed": false,
    "pycharm": {
     "name": "#%%\n"
    }
   }
  },
  {
   "cell_type": "code",
   "execution_count": 2,
   "outputs": [
    {
     "name": "stderr",
     "output_type": "stream",
     "text": [
      "WARNING (theano.tensor.blas): Using NumPy C-API based implementation for BLAS functions.\n"
     ]
    }
   ],
   "source": [
    "# Typical imports\n",
    "import arviz as az\n",
    "import matplotlib\n",
    "import matplotlib.pyplot as plt\n",
    "import numpy as np\n",
    "# import pandas as pd\n",
    "import pymc3 as pm\n",
    "import scipy.stats as stats\n",
    "import theano.tensor as tt"
   ],
   "metadata": {
    "collapsed": false,
    "pycharm": {
     "name": "#%%\n"
    }
   }
  },
  {
   "cell_type": "code",
   "execution_count": 3,
   "outputs": [],
   "source": [
    "# Incorporate the custom `matplotlib` styles\n",
    "import json\n",
    "from cycler import cycler\n",
    "\n",
    "# noinspection SpellCheckingInspection\n",
    "s = json.load(open('./styles/bmh_matplotlibrc.json'))\n",
    "s['axes.prop_cycle'] = cycler('color', s['axes.prop_cycle']['color'])\n",
    "matplotlib.rcParams.update(s)"
   ],
   "metadata": {
    "collapsed": false,
    "pycharm": {
     "name": "#%%\n"
    }
   }
  },
  {
   "cell_type": "code",
   "execution_count": 4,
   "outputs": [],
   "source": [
    "# Create a color cycle\n",
    "color_cycle = plt.rcParams['axes.prop_cycle'].by_key()['color']"
   ],
   "metadata": {
    "collapsed": false,
    "pycharm": {
     "name": "#%%\n"
    }
   }
  },
  {
   "cell_type": "markdown",
   "source": [
    "## A little more PyMC3"
   ],
   "metadata": {
    "collapsed": false,
    "pycharm": {
     "name": "#%% md\n"
    }
   }
  },
  {
   "cell_type": "markdown",
   "source": [
    "### Model context\n",
    "\n",
    "In PyMC3, we put all variables of interest in the context of a `Model`."
   ],
   "metadata": {
    "collapsed": false,
    "pycharm": {
     "name": "#%% md\n"
    }
   }
  },
  {
   "cell_type": "code",
   "execution_count": 5,
   "outputs": [],
   "source": [
    "with pm.Model() as model:\n",
    "    parameter = pm.Exponential('poisson_param', lam=1.0)\n",
    "    data_generator = pm.Poisson('data_generator', parameter)"
   ],
   "metadata": {
    "collapsed": false,
    "pycharm": {
     "name": "#%%\n"
    }
   }
  },
  {
   "cell_type": "markdown",
   "source": [
    "We can continue to work within the context of a previously defined `Model` instance by using `with` and the name\n",
    "of the previously defined variable referring to the `Model` instance."
   ],
   "metadata": {
    "collapsed": false,
    "pycharm": {
     "name": "#%% md\n"
    }
   }
  },
  {
   "cell_type": "code",
   "execution_count": 6,
   "outputs": [],
   "source": [
    "with model:\n",
    "    data_plus_one = data_generator + 1"
   ],
   "metadata": {
    "collapsed": false,
    "pycharm": {
     "name": "#%%\n"
    }
   }
  },
  {
   "cell_type": "markdown",
   "source": [
    "Even though we have defined variables in the context of a model, we can access these variables **outside** the\n",
    "model context."
   ],
   "metadata": {
    "collapsed": false,
    "pycharm": {
     "name": "#%% md\n"
    }
   }
  },
  {
   "cell_type": "code",
   "execution_count": 7,
   "outputs": [
    {
     "data": {
      "text/plain": "array(0.69314718)"
     },
     "execution_count": 7,
     "metadata": {},
     "output_type": "execute_result"
    }
   ],
   "source": [
    "parameter.tag.test_value"
   ],
   "metadata": {
    "collapsed": false,
    "pycharm": {
     "name": "#%%\n"
    }
   }
  },
  {
   "cell_type": "markdown",
   "source": [
    "The first parameter to all model variables is its name. This name allows PyMC3 to access the variable name later."
   ],
   "metadata": {
    "collapsed": false,
    "pycharm": {
     "name": "#%% md\n"
    }
   },
   "outputs": []
  },
  {
   "cell_type": "markdown",
   "source": [
    "Additionally, one can define a new variable with a previously used name in a different model."
   ],
   "metadata": {
    "collapsed": false,
    "pycharm": {
     "name": "#%% md\n"
    }
   }
  },
  {
   "cell_type": "code",
   "execution_count": 8,
   "outputs": [],
   "source": [
    "with pm.Model() as model:\n",
    "    theta = pm.Exponential('theta', 2.0)\n",
    "    data_generator = pm.Poisson('data_generator', theta)"
   ],
   "metadata": {
    "collapsed": false,
    "pycharm": {
     "name": "#%%\n"
    }
   }
  },
  {
   "cell_type": "markdown",
   "source": [
    "We are free to name our model variables whatever we wish. Remember, reusing a model variable name results in\n",
    "overwriting the previous model."
   ],
   "metadata": {
    "collapsed": false,
    "pycharm": {
     "name": "#%% md\n"
    }
   }
  },
  {
   "cell_type": "code",
   "execution_count": 9,
   "outputs": [],
   "source": [
    "with pm.Model() as ab_testing:\n",
    "    p_A = pm.Uniform('P(A)', 0, 1)\n",
    "    p_B = pm.Uniform('P(B)', 0, 1)"
   ],
   "metadata": {
    "collapsed": false,
    "pycharm": {
     "name": "#%%\n"
    }
   }
  },
  {
   "cell_type": "markdown",
   "source": [
    "### PyMC3 Variables"
   ],
   "metadata": {
    "collapsed": false,
    "pycharm": {
     "name": "#%% md\n"
    }
   }
  },
  {
   "cell_type": "markdown",
   "source": [
    "All PyMC3 variables have an initial value (that is, a test value). Examining the variables previously defined:"
   ],
   "metadata": {
    "collapsed": false,
    "pycharm": {
     "name": "#%% md\n"
    }
   }
  },
  {
   "cell_type": "code",
   "execution_count": 10,
   "outputs": [
    {
     "name": "stdout",
     "output_type": "stream",
     "text": [
      "parameter.tag.test_value=array(0.69314718)\n",
      "data_generator.tag.test_value=array(0, dtype=int64)\n",
      "data_plus_one.tag.test_value=array(1, dtype=int64)\n"
     ]
    }
   ],
   "source": [
    "print(f'{parameter.tag.test_value=}')\n",
    "print(f'{data_generator.tag.test_value=}')\n",
    "print(f'{data_plus_one.tag.test_value=}')"
   ],
   "metadata": {
    "collapsed": false,
    "pycharm": {
     "name": "#%%\n"
    }
   }
  },
  {
   "cell_type": "markdown",
   "source": [
    "The `test_value` is used only for the model to provide a starting point for sampling if no other starting point\n",
    "is specified.\n",
    "\n",
    "It will **not** change as a result of sampling; however, the initial state can be changed by specifying a value\n",
    "for the `testval` parameter when creating the variable.\n",
    "\n",
    "Specifying `testval` can be helpful if you are using a more unstable prior that may require a better starting\n",
    "point for sampling."
   ],
   "metadata": {
    "collapsed": false,
    "pycharm": {
     "name": "#%% md\n"
    }
   }
  },
  {
   "cell_type": "code",
   "execution_count": 11,
   "outputs": [],
   "source": [
    "with pm.Model() as model:\n",
    "    parameter = pm.Exponential('poisson_param', 1.0, testval=0.5)"
   ],
   "metadata": {
    "collapsed": false,
    "pycharm": {
     "name": "#%%\n"
    }
   }
  },
  {
   "cell_type": "code",
   "execution_count": 12,
   "outputs": [
    {
     "data": {
      "text/plain": "array(0.5)"
     },
     "execution_count": 12,
     "metadata": {},
     "output_type": "execute_result"
    }
   ],
   "source": [
    "parameter.tag.test_value"
   ],
   "metadata": {
    "collapsed": false,
    "pycharm": {
     "name": "#%%\n"
    }
   }
  },
  {
   "cell_type": "code",
   "execution_count": 13,
   "outputs": [],
   "source": [
    "with pm.Model() as variable_model:\n",
    "    # Stochastic variables have a name and other parameters specific to the distribution.\n",
    "    # It is best to ues a description value for `name` since this value will be used to retrieve the\n",
    "    # posterior distribution for subsequent analysis.\n",
    "    some_variable = pm.DiscreteUniform('discrete_uniform_variable', 0, 4)\n",
    "\n",
    "    # One can use the `shape` argument to model a multivariate (independent) stochastic variable.\n",
    "\n",
    "    # Additionally, one can use the `shape` argument to handle the \"annoying\" case in which you wish\n",
    "    # to model a sequence of values drawn from a single distribution that only differ by \"index.\"\n",
    "    # For example, instead of\n",
    "    # beta_1 = pm.Uniform('beta_1', 0, 1)\n",
    "    # beta_2 = pm.Uniform('beta_2', 0, 1)\n",
    "    # ...\n",
    "    #\n",
    "    # One can wrap them in a single variable:\n",
    "    N = 7\n",
    "    betas = pm.Uniform('betas', 0, 1, shape=N)\n",
    "\n",
    "    # The other category are deterministic variables. We can create a deterministic variable using the\n",
    "    # `Deterministic` constructor.\n",
    "    def some_function_of_other_variables(some_variable, betas):\n",
    "        return some_variable + betas.mean()\n",
    "    #\n",
    "    # deterministic_variable = pm.Deterministic('deterministic variable', some_function_of_other_variables)\n",
    "    # Note that the previous, commented out code generates an `AttributeError` about a `copy` attribute.\n",
    "    # Based on other issues, I believe that the latest versions of PyMC3 no longer support `Deterministic`\n",
    "    # as we used it above."
   ],
   "metadata": {
    "collapsed": false,
    "pycharm": {
     "name": "#%%\n"
    }
   }
  },
  {
   "cell_type": "code",
   "execution_count": 14,
   "outputs": [],
   "source": [
    "# Using the `Deterministic` constructor is the most obvious way to create a deterministic variable; however,\n",
    "# elementary operations like addition and exponentiation implicitly create deterministic variables.\n",
    "# For example:\n",
    "with pm.Model() as model:\n",
    "    lambda_1 = pm.Exponential('lambda_1', 1.0)\n",
    "    lambda_2 = pm.Exponential('lambda_2', 1.0)\n",
    "    tau = pm.DiscreteUniform('tau', lower=0, upper=10)\n",
    "\n",
    "new_deterministic_variable = lambda_1 + lambda_2\n",
    "\n",
    "# Remember, to use a deterministic variable in a model, one must use the `Deterministic` constructor."
   ],
   "metadata": {
    "collapsed": false,
    "pycharm": {
     "name": "#%%\n"
    }
   }
  },
  {
   "cell_type": "code",
   "execution_count": 15,
   "outputs": [],
   "source": [
    "# We can define a deterministic variable inside a model context:\n",
    "n_data_points = 5  # We had 70 data points in chapter 01.\n",
    "idx = np.arange(n_data_points)\n",
    "with model:\n",
    "    lambda_ = pm.math.switch(tau >= idx, lambda_1, lambda_2)"
   ],
   "metadata": {
    "collapsed": false,
    "pycharm": {
     "name": "#%%\n"
    }
   }
  },
  {
   "cell_type": "markdown",
   "source": [
    "### Theano"
   ],
   "metadata": {
    "collapsed": false,
    "pycharm": {
     "name": "#%% md\n"
    }
   }
  },
  {
   "cell_type": "markdown",
   "source": [],
   "metadata": {
    "collapsed": false,
    "pycharm": {
     "name": "#%% md\n"
    }
   }
  },
  {
   "cell_type": "code",
   "execution_count": 16,
   "outputs": [],
   "source": [
    "with pm.Model() as theano_test:\n",
    "    p1 = pm.Uniform('p', 0, 1)\n",
    "    p2 = 1 - p1\n",
    "    p = tt.stack([p1, p2])\n",
    "\n",
    "    assignment = pm.Categorical('assignment', p)"
   ],
   "metadata": {
    "collapsed": false,
    "pycharm": {
     "name": "#%%\n"
    }
   }
  },
  {
   "cell_type": "markdown",
   "source": [
    "### Including observations in the model"
   ],
   "metadata": {
    "collapsed": false,
    "pycharm": {
     "name": "#%% md\n"
    }
   }
  },
  {
   "cell_type": "code",
   "execution_count": 17,
   "outputs": [
    {
     "data": {
      "text/plain": "<Figure size 900x288 with 1 Axes>",
      "image/png": "[encoded data removed]"
     },
     "metadata": {
      "needs_background": "light"
     },
     "output_type": "display_data"
    }
   ],
   "source": [
    "plt.figure(figsize=(12.5, 4))\n",
    "\n",
    "samples = lambda_1.random(size=20000)\n",
    "plt.hist(samples, bins=70, density=True, histtype='stepfilled')\n",
    "plt.title('Prior distribution for $\\lambda_1$')\n",
    "plt.xlim(0, 8)\n",
    "\n",
    "plt.show()"
   ],
   "metadata": {
    "collapsed": false,
    "pycharm": {
     "name": "#%%\n"
    }
   }
  },
  {
   "cell_type": "code",
   "execution_count": 18,
   "outputs": [
    {
     "name": "stdout",
     "output_type": "stream",
     "text": [
      "[10  5]\n"
     ]
    }
   ],
   "source": [
    "data = np.array([10, 5])\n",
    "with model:\n",
    "    fixed_variable = pm.Poisson('fxd', 1, observed=data)\n",
    "print(f'{fixed_variable.tag.test_value}')"
   ],
   "metadata": {
    "collapsed": false,
    "pycharm": {
     "name": "#%%\n"
    }
   }
  },
  {
   "cell_type": "code",
   "execution_count": 19,
   "outputs": [
    {
     "name": "stdout",
     "output_type": "stream",
     "text": [
      "[10 25 15 20 35]\n"
     ]
    }
   ],
   "source": [
    "# Were using fake data here\n",
    "data = np.array([10, 25, 15, 20, 35])\n",
    "with model:\n",
    "    obs = pm.Poisson('obs', lambda_, observed=data)\n",
    "print(f'{obs.tag.test_value}')"
   ],
   "metadata": {
    "collapsed": false,
    "pycharm": {
     "name": "#%%\n"
    }
   }
  },
  {
   "cell_type": "markdown",
   "source": [
    "## Modeling Approaches\n",
    "\n",
    "A good approach to Bayesian modeling is to think about _how your data might have been generated_.\n",
    "\n",
    "From the text message count in the last chapter:\n",
    "\n",
    "1. Began: \"What is the best way to describe the count data?\" Our answer: our data was sampled from a\n",
    "   Poisson distribution.\n",
    "2. But a Poisson distribution is characterized by a parameter, $\\lambda$.\n",
    "3. Do we know $\\lambda$? No. In fact, we think our process may have **two** $\\lambda$ values: one for earlier\n",
    "   behavior and one for later behavior. However, we do not know when the switch occurs, but let's posit that\n",
    "   that switch occurs at time $\\tau$.\n",
    "4. What is a good distribution for the two $\\lambda$s? Since $\\lambda$ can take on any non-negative real number,\n",
    "   we want a distribution whose support is the non-negative real numbers. An exponential distribution is a\n",
    "   distribution with such support. But an exponential distribution takes its own parameter, $\\alpha$.\n",
    "5. What do we know about $\\alpha$. Not very much. We might estimate that each $\\lambda$ is between 10 and 30,\n",
    "   but we are not very confident. Rather than choose a distribution for $\\alpha$, we wil simply estimate\n",
    "   a value. But what value, we want to neither be too low nor too high, so we choose $\\alpha$ equal to the\n",
    "   inverse of mean of the counts per day.\n",
    "6. We have no expert opinion on $\\tau$ so we choose to simple from a discrete uniform distribution."
   ],
   "metadata": {
    "collapsed": false,
    "pycharm": {
     "name": "#%% md\n"
    }
   }
  },
  {
   "cell_type": "markdown",
   "source": [
    "### Same story; different endings\n",
    "\n",
    "As advantage of identifying a generative model is that we can run the process \"backwards\"; that is, we can\n",
    "sample values from our generative distribution(s). Eventually, having sampled parameters from all our processes,\n",
    "we can actually simulate the observed data to ensure that the simulated observed data has similar characteristics\n",
    "to the actual observed data."
   ],
   "metadata": {
    "collapsed": false,
    "pycharm": {
     "name": "#%% md\n"
    }
   }
  },
  {
   "cell_type": "code",
   "execution_count": 20,
   "outputs": [
    {
     "name": "stdout",
     "output_type": "stream",
     "text": [
      "tau=69\n"
     ]
    }
   ],
   "source": [
    "# Since `tau` is a leaf of our variable tree, begin by sampling `tau`.\n",
    "tau = np.random.randint(0, 80)\n",
    "# tau = stats.randint(0, 80)  # an alternative\n",
    "print(f'{tau=}')"
   ],
   "metadata": {
    "collapsed": false,
    "pycharm": {
     "name": "#%%\n"
    }
   }
  },
  {
   "cell_type": "code",
   "execution_count": 21,
   "outputs": [
    {
     "name": "stdout",
     "output_type": "stream",
     "text": [
      "lambda_1=15.49388257684866, lambda_2=39.244357028011684\n"
     ]
    }
   ],
   "source": [
    "# We next draw `lambda_1` and `lambda_2` from an exponential distribution.\n",
    "alpha = 1. / 20.\n",
    "lambda_1, lambda_2 = np.random.exponential(scale=(1 / alpha), size=2)\n",
    "# lambda_1 = stats.expon(alpha=alpha)  # an alternative\n",
    "# lambda_2 = stats.expon(alpha=alpha)\n",
    "print(f'{lambda_1=}, {lambda_2=}')"
   ],
   "metadata": {
    "collapsed": false,
    "pycharm": {
     "name": "#%%\n"
    }
   }
  },
  {
   "cell_type": "code",
   "execution_count": 22,
   "outputs": [],
   "source": [
    "# Finally, we generate the count data from a Poisson distribution\n",
    "simulated = np.r_[stats.poisson.rvs(lambda_1, size=tau), stats.poisson.rvs(lambda_2, size=80 - tau)]"
   ],
   "metadata": {
    "collapsed": false,
    "pycharm": {
     "name": "#%%\n"
    }
   }
  },
  {
   "cell_type": "code",
   "execution_count": 23,
   "outputs": [
    {
     "data": {
      "text/plain": "<Figure size 792x576 with 1 Axes>",
      "image/png": "[encoded data removed]"
     },
     "metadata": {
      "needs_background": "light"
     },
     "output_type": "display_data"
    }
   ],
   "source": [
    "# Finally, plot the generated (simulated) data\n",
    "fig, ax = plt.subplots(figsize=(11, 8))\n",
    "ax.bar(np.arange(80), simulated, color=color_cycle[0])\n",
    "ax.bar(tau - 1, simulated[tau - 1], color=color_cycle[1], label='User behavior changed')\n",
    "\n",
    "plt.xlim(0, 80)\n",
    "plt.xlabel('Time (days)')\n",
    "plt.ylabel('Daily text messages count')\n",
    "plt.legend()\n",
    "plt.title('Simulated text message counts')\n",
    "plt.show()"
   ],
   "metadata": {
    "collapsed": false,
    "pycharm": {
     "name": "#%%\n"
    }
   }
  },
  {
   "cell_type": "markdown",
   "source": [
    "Note that this data does not look identical (or even close) to our observed count data. However, it does have\n",
    "similar characteristics:\n",
    "\n",
    "- Two different regimes\n",
    "- Separated at $\\tau$\n",
    "\n",
    "(The writer also discovered that **some** simulations may generate a count of zero (0) on day $\\tau$.)"
   ],
   "metadata": {
    "collapsed": false,
    "pycharm": {
     "name": "#%% md\n"
    }
   }
  },
  {
   "cell_type": "code",
   "execution_count": 24,
   "outputs": [],
   "source": [
    "# We simulate a few more data sets below\n",
    "def plot_simulated_sms_dataset(ax, color):\n",
    "    tau = stats.randint.rvs(0, 80)\n",
    "    alpha = 1. / 20.\n",
    "    lambda_1, lambda_2 = stats.expon.rvs(scale=(1. / alpha), size=2)\n",
    "    simulated = np.r_[stats.poisson.rvs(mu=lambda_1, size=tau), stats.poisson.rvs(mu=lambda_2, size=(80 - tau))]\n",
    "    ax.bar(np.arange(80), simulated, color=color)\n",
    "    ax.bar(tau - 1, simulated[tau - 1], color='y', label='User behavior changed')"
   ],
   "metadata": {
    "collapsed": false,
    "pycharm": {
     "name": "#%%\n"
    }
   }
  },
  {
   "cell_type": "code",
   "execution_count": 25,
   "outputs": [
    {
     "data": {
      "text/plain": "<Figure size 900x576 with 4 Axes>",
      "image/png": "[encoded data removed]"
     },
     "metadata": {
      "needs_background": "light"
     },
     "output_type": "display_data"
    }
   ],
   "source": [
    "_, axes = plt.subplots(4, 1, figsize=(12.5, 8))\n",
    "for i in range(4):\n",
    "    ax = axes[i]\n",
    "    plot_simulated_sms_dataset(ax, color_cycle[i])\n",
    "    ax.legend()\n",
    "plt.suptitle('More examples of simulated datasets')\n",
    "plt.tight_layout()"
   ],
   "metadata": {
    "collapsed": false,
    "pycharm": {
     "name": "#%%\n"
    }
   }
  },
  {
   "cell_type": "markdown",
   "source": [
    "Later, we will see how to use simulations to make predictions and test the appropriateness of our models."
   ],
   "metadata": {
    "collapsed": false,
    "pycharm": {
     "name": "#%% md\n"
    }
   }
  },
  {
   "cell_type": "markdown",
   "source": [
    "### Example: Bayesian A/B Testing\n",
    "\n",
    "A statistical design pattern for determining the difference of effectiveness between two different treatments. For example, a pharmaceutical company is interested in the effectiveness of drug A versus drug B. Similarly, front-end web developers are interested in which design of their website yields more sales or some other metric of interest. They will route some fraction of traffic to site A and the remainder to site B, and then record  if the visit yielded a sale or not."
   ],
   "metadata": {
    "collapsed": false,
    "pycharm": {
     "name": "#%% md\n"
    }
   }
  },
  {
   "cell_type": "markdown",
   "source": [
    "### A Simple Case\n",
    "\n",
    "We'll continue with the web developer example. We begin by focusing on site A only.\n",
    "\n",
    "We assume that some true probability, $0 \\le p_A \\le 1$, that users who, encountering site A, eventually make a purchase from the site. This quantity is the true effectiveness of site A; however, the actual value, $p_A$, is unknown to us.\n",
    "\n",
    "One might assume that, out of $N$ people who visit site A, if $n$ people make a purchase, that the effectiveness of site A is $\\frac{n}{N}$. However, this value is the _observed frequency_ not the true effectiveness. Even though $\\frac{n}{N}$ is not the true frequency, we can use this observed data to **infer** the true effectiveness of site A.\n",
    "\n",
    "In our situation, we want to use the observed data, $N$, the total number of visitors to site A, and $n$, the number of visitors that made a purchase from site A, to estimate $p_A$, the true frequency of buyers; that is, the true effectiveness of site A."
   ],
   "metadata": {
    "collapsed": false,
    "pycharm": {
     "name": "#%% md\n"
    }
   }
  },
  {
   "cell_type": "markdown",
   "source": [
    "To set up a Bayesian model, we need to assign prior probabilities to our unknown quantities. _A priori_, what do we think $p_a$ might be? For this example, we have no strong convictions about $p_A$. This suggests using a uniform distribution."
   ],
   "metadata": {
    "collapsed": false,
    "pycharm": {
     "name": "#%% md\n"
    }
   }
  },
  {
   "cell_type": "code",
   "execution_count": 33,
   "outputs": [],
   "source": [
    "with pm.Model() as model:\n",
    "    p = pm.Uniform('p', lower=0, upper=1)"
   ],
   "metadata": {
    "collapsed": false,
    "pycharm": {
     "name": "#%%\n"
    }
   }
  },
  {
   "cell_type": "markdown",
   "source": [
    "If we had stronger prior beliefs, for example, if already had a \"base rate\" for sales, we might choose a different prior."
   ],
   "metadata": {
    "collapsed": false,
    "pycharm": {
     "name": "#%% md\n"
    }
   }
  },
  {
   "cell_type": "markdown",
   "source": [
    "For this example, we can simulate our observed data. Specifically, if one assumes that $p_A$ is 0.05 and that $N$ is 1500 users shown site A, we can use a Bernoulli distribution to simulate the number of \"successes\" in 1500 trials with a probability of success on each trial of 0.05."
   ],
   "metadata": {
    "collapsed": false,
    "pycharm": {
     "name": "#%% md\n"
    }
   }
  },
  {
   "cell_type": "code",
   "execution_count": 34,
   "outputs": [
    {
     "name": "stdout",
     "output_type": "stream",
     "text": [
      "[0 0 0 ... 0 0 0]\n",
      "74\n"
     ]
    }
   ],
   "source": [
    "p_true = 0.05  # Actually unknown. Assume this value to simulate observed data\n",
    "N = 1500\n",
    "\n",
    "# Generate the simulated data\n",
    "occurrences = stats.bernoulli.rvs(p_true, size=N)\n",
    "\n",
    "print(occurrences)  # Remember that Python treats `True == 1` and `False == 0`\n",
    "print(np.sum(occurrences))  # The number of \"successes.\""
   ],
   "metadata": {
    "collapsed": false,
    "pycharm": {
     "name": "#%%\n"
    }
   }
  },
  {
   "cell_type": "code",
   "execution_count": 35,
   "outputs": [
    {
     "name": "stdout",
     "output_type": "stream",
     "text": [
      "What is the observed frequency of sales from site A? 0.0493\n",
      "Does the observed frequency equal the true frequency? False\n"
     ]
    }
   ],
   "source": [
    "# The mean of `occurrences` is equal to `n / N`.\n",
    "print(f'What is the observed frequency of sales from site A? {np.mean(occurrences):.4f}')\n",
    "print(f'Does the observed frequency equal the true frequency? {np.mean(occurrences) == p_true}')"
   ],
   "metadata": {
    "collapsed": false,
    "pycharm": {
     "name": "#%%\n"
    }
   }
  },
  {
   "cell_type": "markdown",
   "source": [
    "We use the simulated data in our `observed` variable, and run our inference algorithm:"
   ],
   "metadata": {
    "collapsed": false,
    "pycharm": {
     "name": "#%% md\n"
    }
   }
  },
  {
   "cell_type": "code",
   "execution_count": 36,
   "outputs": [
    {
     "name": "stderr",
     "output_type": "stream",
     "text": [
      "Multiprocess sampling (4 chains in 4 jobs)\n",
      "Metropolis: [p]\n"
     ]
    },
    {
     "data": {
      "text/plain": "<IPython.core.display.HTML object>",
      "text/html": "\n<style>\n    /* Turns off some styling */\n    progress {\n        /* gets rid of default border in Firefox and Opera. */\n        border: none;\n        /* Needs to be in here for Safari polyfill so background images work as expected. */\n        background-size: auto;\n    }\n    .progress-bar-interrupted, .progress-bar-interrupted::-webkit-progress-bar {\n        background: #F44336;\n    }\n</style>\n"
     },
     "metadata": {},
     "output_type": "display_data"
    },
    {
     "data": {
      "text/plain": "<IPython.core.display.HTML object>",
      "text/html": "\n    <div>\n      <progress value='0' class='' max='44000' style='width:300px; height:20px; vertical-align: middle;'></progress>\n      \n    </div>\n    "
     },
     "metadata": {},
     "output_type": "display_data"
    },
    {
     "name": "stderr",
     "output_type": "stream",
     "text": [
      "Sampling 4 chains for 1_000 tune and 10_000 draw iterations (4_000 + 40_000 draws total) took 41 seconds.\n",
      "The number of effective samples is smaller than 25% for some parameters.\n"
     ]
    }
   ],
   "source": [
    "# Include the observations which are Bernoulli trials\n",
    "with model:\n",
    "    obs = pm.Bernoulli('obs', p, observed=occurrences)\n",
    "    # Incantation to be explained later\n",
    "    step = pm.Metropolis()\n",
    "    trace = pm.sample(10000, step=step, return_inferencedata=False)\n",
    "    burned_trace = trace[1000:]  # skips the first 1000 samples in the trace (the tuning steps?)"
   ],
   "metadata": {
    "collapsed": false,
    "pycharm": {
     "name": "#%%\n"
    }
   }
  },
  {
   "cell_type": "markdown",
   "source": [
    "We plot the posterior distribution for the unknown $p_A$."
   ],
   "metadata": {
    "collapsed": false,
    "pycharm": {
     "name": "#%% md\n"
    }
   }
  },
  {
   "cell_type": "code",
   "execution_count": 39,
   "outputs": [
    {
     "data": {
      "text/plain": "<Figure size 900x288 with 1 Axes>",
      "image/png": "[encoded data removed]"
     },
     "metadata": {
      "needs_background": "light"
     },
     "output_type": "display_data"
    }
   ],
   "source": [
    "_, ax = plt.subplots(figsize=(12.5, 4))\n",
    "ax.hist(burned_trace['p'], bins=25, histtype='stepfilled', density=True)\n",
    "ax.vlines(p_true, 0, 90, linestyle='--', color='k', label='True $p_A$ (unknown)')\n",
    "plt.title('Posterior distribution of $p_a$, the true effectiveness of ')\n",
    "plt.legend()\n",
    "plt.show()"
   ],
   "metadata": {
    "collapsed": false,
    "pycharm": {
     "name": "#%%\n"
    }
   }
  },
  {
   "cell_type": "markdown",
   "source": [
    "Notice that our posterior distribution puts most of the weight **near** the true value of $p_A$, 0.05, but also puts significant weight in the tails of the distribution."
   ],
   "metadata": {
    "collapsed": false,
    "pycharm": {
     "name": "#%% md\n"
    }
   }
  },
  {
   "cell_type": "markdown",
   "source": [
    "Try changing the value of $N$ and see how the posterior changes."
   ],
   "metadata": {
    "collapsed": false,
    "pycharm": {
     "name": "#%% md\n"
    }
   }
  },
  {
   "cell_type": "code",
   "execution_count": null,
   "outputs": [],
   "source": [
    "# Insert code here\n",
    "assert False"
   ],
   "metadata": {
    "collapsed": false,
    "pycharm": {
     "name": "#%%\n"
    }
   }
  },
  {
   "cell_type": "code",
   "execution_count": 43,
   "outputs": [
    {
     "name": "stderr",
     "output_type": "stream",
     "text": [
      "Auto-assigning NUTS sampler...\n",
      "Initializing NUTS using jitter+adapt_diag...\n",
      "Multiprocess sampling (4 chains in 4 jobs)\n",
      "NUTS: [p]\n"
     ]
    },
    {
     "data": {
      "text/plain": "<IPython.core.display.HTML object>",
      "text/html": "\n<style>\n    /* Turns off some styling */\n    progress {\n        /* gets rid of default border in Firefox and Opera. */\n        border: none;\n        /* Needs to be in here for Safari polyfill so background images work as expected. */\n        background-size: auto;\n    }\n    .progress-bar-interrupted, .progress-bar-interrupted::-webkit-progress-bar {\n        background: #F44336;\n    }\n</style>\n"
     },
     "metadata": {},
     "output_type": "display_data"
    },
    {
     "data": {
      "text/plain": "<IPython.core.display.HTML object>",
      "text/html": "\n    <div>\n      <progress value='0' class='' max='44000' style='width:300px; height:20px; vertical-align: middle;'></progress>\n      \n    </div>\n    "
     },
     "metadata": {},
     "output_type": "display_data"
    },
    {
     "name": "stderr",
     "output_type": "stream",
     "text": [
      "Sampling 4 chains for 1_000 tune and 10_000 draw iterations (4_000 + 40_000 draws total) took 51 seconds.\n"
     ]
    },
    {
     "data": {
      "text/plain": "array([[<AxesSubplot:title={'center':'p'}>,\n        <AxesSubplot:title={'center':'p'}>]], dtype=object)"
     },
     "execution_count": 43,
     "metadata": {},
     "output_type": "execute_result"
    },
    {
     "data": {
      "text/plain": "<Figure size 864x144 with 2 Axes>",
      "image/png": "[encoded data removed]"
     },
     "metadata": {
      "needs_background": "light"
     },
     "output_type": "display_data"
    }
   ],
   "source": [
    "# Try a similar exercise using `arviz`\n",
    "with pm.Model() as arviz_model:\n",
    "    p = pm.Uniform('p', lower=0, upper=1)\n",
    "    obs = pm.Bernoulli('obs', p, observed=occurrences)\n",
    "    # Incantation to be explained later\n",
    "    idata = pm.sample(10000, return_inferencedata=True)\n",
    "\n",
    "az.plot_trace(idata)"
   ],
   "metadata": {
    "collapsed": false,
    "pycharm": {
     "name": "#%%\n"
    }
   }
  },
  {
   "cell_type": "code",
   "execution_count": null,
   "outputs": [],
   "source": [],
   "metadata": {
    "collapsed": false,
    "pycharm": {
     "name": "#%%\n"
    }
   }
  }
 ],
 "metadata": {
  "kernelspec": {
   "display_name": "Python 3",
   "language": "python",
   "name": "python3"
  },
  "language_info": {
   "codemirror_mode": {
    "name": "ipython",
    "version": 2
   },
   "file_extension": ".py",
   "mimetype": "text/x-python",
   "name": "python",
   "nbconvert_exporter": "python",
   "pygments_lexer": "ipython2",
   "version": "2.7.6"
  }
 },
 "nbformat": 4,
 "nbformat_minor": 0
}